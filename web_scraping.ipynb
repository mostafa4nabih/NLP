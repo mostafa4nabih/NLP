{
 "cells": [
  {
   "cell_type": "code",
   "execution_count": 1,
   "id": "8654f2bd-10b1-47e7-8715-d58fefb2267e",
   "metadata": {},
   "outputs": [],
   "source": [
    "import csv\n",
    "import requests\n",
    "from bs4 import BeautifulSoup\n",
    "from itertools import zip_longest"
   ]
  },
  {
   "cell_type": "code",
   "execution_count": 4,
   "id": "3fb46e23-b4be-4b32-a131-1efa78a779f3",
   "metadata": {},
   "outputs": [],
   "source": [
    "job_title = []\n",
    "company_name = []\n",
    "location_name = []\n",
    "skills = []\n",
    "links=[]\n",
    "#salary=[]"
   ]
  },
  {
   "cell_type": "code",
   "execution_count": 5,
   "id": "e6710cea-642c-40c8-a7fc-c5ce501005c9",
   "metadata": {},
   "outputs": [],
   "source": [
    "result = requests.get(\"https://wuzzuf.net/search/jobs/?q=flutter%20&a=navbg\")\n",
    "src = result.content\n",
    "soup = BeautifulSoup(src, \"lxml\")\n"
   ]
  },
  {
   "cell_type": "code",
   "execution_count": 6,
   "id": "f6049aa5-a068-48f5-b450-5fcb7651b6f7",
   "metadata": {},
   "outputs": [],
   "source": [
    "job_titles = soup.find_all(\"h2\", {\"class\": \"css-m604qf\"})\n",
    "company_names = soup.find_all(\"a\", {\"class\": \"css-17s97q8\"})\n",
    "location_names = soup.find_all(\"span\", {\"class\": \"css-5wys0k\"})\n",
    "job_skills = soup.find_all(\"div\", {\"class\": \"css-y4udm8\"})\n"
   ]
  },
  {
   "cell_type": "code",
   "execution_count": 7,
   "id": "e2f4a80d-9c5b-4014-a751-e83b3397f507",
   "metadata": {},
   "outputs": [],
   "source": [
    "for i in range(len(job_titles)):\n",
    "    job_title.append(job_titles[i].text)\n",
    "    links.append(job_titles[i].find(\"a\").attrs['href'])\n",
    "    company_name.append(company_names[i].text)\n",
    "    location_name.append(location_names[i].text)\n",
    "    skills.append(job_skills[i].text)\n"
   ]
  },
  {
   "cell_type": "code",
   "execution_count": 10,
   "id": "8b161645-63a4-40e2-9732-562323528361",
   "metadata": {},
   "outputs": [],
   "source": [
    "salary = []\n",
    "\n",
    "for link in links:\n",
    "    result = requests.get(link)\n",
    "    src = result.content\n",
    "    soup = BeautifulSoup(src, \"lxml\")\n",
    "    salaries = soup.find(\"div\", {\"class\": \"matching-requirement-icon-container\", \"data-toggle\": \"tooltip\", \"data-placement\": \"top\"})\n",
    "    if salaries:\n",
    "        salary.append(salaries.text)\n",
    "    else:\n",
    "        salary.append(\"Salary not available\")\n"
   ]
  },
  {
   "cell_type": "code",
   "execution_count": 11,
   "id": "18c26326-5e0c-49d8-8117-4ad2a4f2a8ca",
   "metadata": {},
   "outputs": [],
   "source": [
    "file_list = [job_title, company_name, location_name, skills,links,salary]\n",
    "exported = zip_longest(*file_list)\n"
   ]
  },
  {
   "cell_type": "code",
   "execution_count": 12,
   "id": "86444511-a535-4d53-8ddc-f15b17f9d8a8",
   "metadata": {},
   "outputs": [],
   "source": [
    "with open(\"D:\\\\test\\\\job.csv\", \"w\", newline=\"\", encoding=\"utf-8\") as myfile:\n",
    "    wr = csv.writer(myfile)\n",
    "    wr.writerow([\"job_title \", \"company\", \"location\", \"skills\",\"Link of job\",\"salary\"])\n",
    "    wr.writerows(exported)\n"
   ]
  },
  {
   "cell_type": "code",
   "execution_count": null,
   "id": "474c82cf-e5e9-44f9-b707-5f2e878e598a",
   "metadata": {},
   "outputs": [],
   "source": []
  },
  {
   "cell_type": "code",
   "execution_count": null,
   "id": "02aca916-1e1d-4496-9053-6b360d09205f",
   "metadata": {},
   "outputs": [],
   "source": []
  }
 ],
 "metadata": {
  "kernelspec": {
   "display_name": "Python 3 (ipykernel)",
   "language": "python",
   "name": "python3"
  },
  "language_info": {
   "codemirror_mode": {
    "name": "ipython",
    "version": 3
   },
   "file_extension": ".py",
   "mimetype": "text/x-python",
   "name": "python",
   "nbconvert_exporter": "python",
   "pygments_lexer": "ipython3",
   "version": "3.9.18"
  }
 },
 "nbformat": 4,
 "nbformat_minor": 5
}
